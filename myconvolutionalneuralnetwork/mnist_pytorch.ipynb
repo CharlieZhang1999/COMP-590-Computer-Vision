{
 "cells": [
  {
   "cell_type": "markdown",
   "metadata": {
    "colab_type": "text",
    "id": "QscbMmx0KhED"
   },
   "source": [
    "Dataloader for Cifar dataset\n"
   ]
  },
  {
   "cell_type": "code",
   "execution_count": 31,
   "metadata": {
    "colab": {},
    "colab_type": "code",
    "id": "CkDbtD1tupoO"
   },
   "outputs": [],
   "source": [
    "import torch\n",
    "import torchvision\n",
    "import torchvision.transforms as transforms\n",
    "\n",
    "class CifarLoader(object):\n",
    "    \"\"\"docstring for CifarLoader\"\"\"\n",
    "    def __init__(self):\n",
    "        super(CifarLoader, self).__init__()\n",
    "        transform = transforms.Compose(\n",
    "\t\t    [\n",
    "\t\t     # TODO: Add data augmentations here\n",
    "             transforms.RandomHorizontalFlip(),\n",
    "\t\t     transforms.ToTensor(),\n",
    "             transforms.Normalize((0.5,),(0.5,))\n",
    "\t\t     ])\n",
    "        transform_test = transforms.Compose([\n",
    "\t\t    transforms.ToTensor(),\n",
    "            transforms.Normalize((0.5,),(0.5,))\n",
    "            #transforms.Normalize((0.5),(0.2))\n",
    "\t\t])\n",
    "  \n",
    "        train_set = torchvision.datasets.MNIST('./', transform=transform, download=True)\n",
    "        print(len(train_set))\n",
    "        self.trainloader = torch.utils.data.DataLoader(train_set,\n",
    "                                              batch_size=64,\n",
    "                                              shuffle=True)\n",
    "        test_set = torchvision.datasets.MNIST('./', transform=transform_test, download=True)\n",
    "        self.testloader = torch.utils.data.DataLoader(test_set,\n",
    "                                              batch_size=64,\n",
    "                                              shuffle=False)    "
   ]
  },
  {
   "cell_type": "markdown",
   "metadata": {
    "colab_type": "text",
    "id": "5XXjLP0vLfkd"
   },
   "source": [
    "Network architecture class.\n",
    "net = Net() will initialize a network. The architecture is defined in the forward() function.\n",
    "Calling the network to perform one step of prediction is simply net(input), this will give input to the network and call the forward() function."
   ]
  },
  {
   "cell_type": "code",
   "execution_count": 32,
   "metadata": {
    "colab": {},
    "colab_type": "code",
    "id": "T-O4YyL84j-1"
   },
   "outputs": [],
   "source": [
    "import torch\n",
    "import torch.nn as nn\n",
    "import torch.nn.functional as F\n",
    "\n",
    "\n",
    "class Net(nn.Module):\n",
    "\n",
    "    def __init__(self):\n",
    "        super(Net, self).__init__()\n",
    "        # 1 input image channel, 6 output channels, 3x3 square convolution\n",
    "        # kernel\n",
    "        self.conv1 = nn.Conv2d(1, 6, 3)\n",
    "        self.conv2 = nn.Conv2d(6, 16, 3)\n",
    "        # an affine operation: y = Wx + b\n",
    "        self.fc1 = nn.Linear(16 * 5 * 5, 120)  # 6*6 from image dimension\n",
    "        self.fc2 = nn.Linear(120, 84)\n",
    "        self.fc3 = nn.Linear(84, 10)\n",
    "\n",
    "    def forward(self, x):\n",
    "        # Max pooling over a (2, 2) window\n",
    "        x = F.max_pool2d(F.relu(self.conv1(x)), (2, 2))\n",
    "        # If the size is a square you can only specify a single number\n",
    "        x = F.max_pool2d(F.relu(self.conv2(x)), 2)\n",
    "        x = x.view(-1, self.num_flat_features(x))\n",
    "        x = F.relu(self.fc1(x))\n",
    "        x = F.relu(self.fc2(x))\n",
    "        x = self.fc3(x)\n",
    "        output = F.log_softmax(x, dim=1)\n",
    "        return output\n",
    "\n",
    "    def num_flat_features(self, x):\n",
    "        size = x.size()[1:]  # all dimensions except the batch dimension\n",
    "        num_features = 1\n",
    "        for s in size:\n",
    "            num_features *= s\n",
    "        return num_features\n"
   ]
  },
  {
   "cell_type": "markdown",
   "metadata": {
    "colab_type": "text",
    "id": "EocMJ8PeMmz_"
   },
   "source": [
    "Training and testing function.\n",
    "You need to filling in the missing steps in this function"
   ]
  },
  {
   "cell_type": "code",
   "execution_count": 33,
   "metadata": {
    "colab": {},
    "colab_type": "code",
    "id": "sihZC7qBOViS"
   },
   "outputs": [],
   "source": [
    "def train(net, dataloader, optimizer, criterion, epoch):\n",
    "\n",
    "    running_loss = 0.0\n",
    "    total_loss = 0.0\n",
    "\n",
    "    for i, data in enumerate(dataloader.trainloader, 0):\n",
    "        # get the inputs\n",
    "        inputs, labels = data\n",
    "        \n",
    "        # zero the parameter gradients\n",
    "        optimizer.zero_grad()\n",
    "\n",
    "        # forward + compute loss + backward + update weights\n",
    "        # 1. forward pass of network\n",
    "        output = net(inputs)\n",
    "        # 2. Compute loss use criterion function\n",
    "        loss = criterion(output, labels)\n",
    "        # 3. compute gradient with respect to loss use backpropagation\n",
    "        loss.backward()\n",
    "        # 4. update network weights use optimizer\n",
    "        optimizer.step()\n",
    "        # print statistics\n",
    "        running_loss += loss.item()\n",
    "        total_loss += loss.item()\n",
    "        if (i + 1) % 2000 == 0:    # print every 2000 mini-batches\n",
    "            print('[%d, %5d] loss: %.3f' %\n",
    "                  (epoch + 1, i + 1, running_loss / 2000))\n",
    "            running_loss = 0.0\n",
    "\n",
    "    print('Final Summary:   loss: %.3f' %\n",
    "          (total_loss / i))\n",
    "\n",
    "\n",
    "def test(net, dataloader, tag=''):\n",
    "    correct = 0\n",
    "    total = 0\n",
    "    if tag == 'Train':\n",
    "        dataTestLoader = dataloader.trainloader\n",
    "    else:\n",
    "        dataTestLoader = dataloader.testloader\n",
    "    with torch.no_grad():\n",
    "        for data in dataTestLoader:\n",
    "            images, labels = data\n",
    "            # 1. forward pass of network\n",
    "            output = net(images)\n",
    "            # 2. Prediction is the maximum label in the output\n",
    "            _,prediction = torch.max(output.data,1)\n",
    "            # 3. Compare with the groundtruth label and count the number of \n",
    "            #    correct predictions\n",
    "            total += labels.size(0)\n",
    "            correct += (prediction == labels).sum().item()\n",
    "\n",
    "\n",
    "    print('%s Accuracy of the network: %d %%' % (tag,\n",
    "        100 * correct / total))\n"
   ]
  },
  {
   "cell_type": "markdown",
   "metadata": {
    "colab_type": "text",
    "id": "JgNEcqMJgBWp"
   },
   "source": [
    "Training and testing network"
   ]
  },
  {
   "cell_type": "code",
   "execution_count": 35,
   "metadata": {
    "colab": {},
    "colab_type": "code",
    "id": "ANbjG4haHlN5"
   },
   "outputs": [
    {
     "name": "stdout",
     "output_type": "stream",
     "text": [
      "Net(\n",
      "  (conv1): Conv2d(1, 6, kernel_size=(3, 3), stride=(1, 1))\n",
      "  (conv2): Conv2d(6, 16, kernel_size=(3, 3), stride=(1, 1))\n",
      "  (fc1): Linear(in_features=400, out_features=120, bias=True)\n",
      "  (fc2): Linear(in_features=120, out_features=84, bias=True)\n",
      "  (fc3): Linear(in_features=84, out_features=10, bias=True)\n",
      ")\n",
      "60000\n",
      "Final Summary:   loss: 0.832\n",
      "Train Accuracy of the network: 87 %\n",
      "Test Accuracy of the network: 87 %\n",
      "Final Summary:   loss: 0.192\n",
      "Train Accuracy of the network: 95 %\n",
      "Test Accuracy of the network: 95 %\n",
      "Final Summary:   loss: 0.123\n",
      "Train Accuracy of the network: 96 %\n",
      "Test Accuracy of the network: 96 %\n",
      "Final Summary:   loss: 0.096\n",
      "Train Accuracy of the network: 97 %\n",
      "Test Accuracy of the network: 97 %\n",
      "Final Summary:   loss: 0.078\n",
      "Train Accuracy of the network: 97 %\n",
      "Test Accuracy of the network: 97 %\n"
     ]
    }
   ],
   "source": [
    "\n",
    "import torch.optim as optim\n",
    "\n",
    "epochs = 5  # \n",
    "net = Net()\n",
    "print(net)\n",
    "\n",
    "# create your optimizer\n",
    "optimizer = optim.SGD(net.parameters(), lr=0.05)\n",
    "criterion = nn.NLLLoss()\n",
    "\n",
    "# Create dataloader\n",
    "cifarLoader = CifarLoader()\n",
    "\n",
    "#train(net, cifarLoader, optimizer, criterion, 1)\n",
    "for epoch in range(epochs):  # loop over the dataset multiple times\n",
    "    train(net, cifarLoader, optimizer, criterion, epoch)\n",
    "    if epoch % 1 == 0: # Comment out this part if you want a faster training\n",
    "        test(net, cifarLoader, 'Train')\n",
    "        test(net, cifarLoader, 'Test')"
   ]
  },
  {
   "cell_type": "code",
   "execution_count": null,
   "metadata": {},
   "outputs": [],
   "source": []
  }
 ],
 "metadata": {
  "accelerator": "GPU",
  "colab": {
   "collapsed_sections": [],
   "name": "mnist_pytorch.ipynb",
   "provenance": []
  },
  "kernelspec": {
   "display_name": "Python 3",
   "language": "python",
   "name": "python3"
  },
  "language_info": {
   "codemirror_mode": {
    "name": "ipython",
    "version": 3
   },
   "file_extension": ".py",
   "mimetype": "text/x-python",
   "name": "python",
   "nbconvert_exporter": "python",
   "pygments_lexer": "ipython3",
   "version": "3.7.4"
  }
 },
 "nbformat": 4,
 "nbformat_minor": 1
}
